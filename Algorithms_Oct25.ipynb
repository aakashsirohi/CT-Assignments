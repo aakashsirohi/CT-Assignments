{
 "cells": [
  {
   "cell_type": "markdown",
   "metadata": {},
   "source": [
    "# Algorithms, Binary Search & Linked Lists"
   ]
  },
  {
   "cell_type": "markdown",
   "metadata": {},
   "source": [
    "## Tasks Today:\n",
    " \n",
    "1) <b>In-Place Algorithms</b> <br>\n",
    " &nbsp;&nbsp;&nbsp;&nbsp; a) Syntax <br>\n",
    " &nbsp;&nbsp;&nbsp;&nbsp; a) Out of Place Algorithm <br>\n",
    " &nbsp;&nbsp;&nbsp;&nbsp; b) In-Class Exercise #1 <br>\n",
    "2) <b>Two Pointers</b> <br>\n",
    "3) <b>Linked Lists</b> <br>\n",
    "4) <b>Merge Sort</b> <br>\n",
    " &nbsp;&nbsp;&nbsp;&nbsp; a) Video on Algorithms <br>\n",
    " &nbsp;&nbsp;&nbsp;&nbsp; b) How it Works <br>\n",
    "5) <b>Exercises</b> <br>\n",
    " &nbsp;&nbsp;&nbsp;&nbsp; a) Exercise #1 - Reverse a List in Place Using an In-Place Algorithm <br>\n",
    " &nbsp;&nbsp;&nbsp;&nbsp; b) Exercise #2 - Find Distinct Words <br>\n",
    " &nbsp;&nbsp;&nbsp;&nbsp; c) Exercise #3 - Write a program to implement a Linear Search Algorithm. <br>"
   ]
  },
  {
   "cell_type": "markdown",
   "metadata": {},
   "source": [
    "## In-Place Algorithms"
   ]
  },
  {
   "cell_type": "markdown",
   "metadata": {},
   "source": [
    "#### Syntax"
   ]
  },
  {
   "cell_type": "code",
   "execution_count": 3,
   "metadata": {},
   "outputs": [
    {
     "name": "stdout",
     "output_type": "stream",
     "text": [
      "1830506937920\n",
      "1830506937920\n"
     ]
    }
   ],
   "source": [
    "#inplace is an algo that modifies the original variable in its place in memory\n",
    "#these algos typically don't return anything\n",
    "\n",
    "def swap(alist, x,y,z):\n",
    "    alist[x], alist[y], alist[z] = alist[y], alist[z], alist[x]\n",
    "\n",
    "my_list = [1,2,3]\n",
    "print(id(my_list))\n",
    "swap(my_list, 0, 1, 2)\n",
    "\n",
    "print(id(my_list))"
   ]
  },
  {
   "cell_type": "markdown",
   "metadata": {},
   "source": [
    "#### Out of Place Algorithm"
   ]
  },
  {
   "cell_type": "code",
   "execution_count": 5,
   "metadata": {},
   "outputs": [
    {
     "name": "stdout",
     "output_type": "stream",
     "text": [
      "1830506932992\n",
      "[3, 2, 1]\n",
      "1830486368768\n"
     ]
    }
   ],
   "source": [
    "#out of place algos don't modify the original, they use the values, but restore the modifications in a new place in memory\n",
    "\n",
    "def out_swap(alist):\n",
    "    output = []\n",
    "    for ele in alist[::-1]:\n",
    "        output.append(ele)\n",
    "    return output\n",
    "\n",
    "my_list = [1,2,3]\n",
    "print(id(my_list))\n",
    "\n",
    "my_list = out_swap(my_list)\n",
    "\n",
    "print(my_list)\n",
    "print(id(my_list))"
   ]
  },
  {
   "cell_type": "markdown",
   "metadata": {},
   "source": [
    "#### In-Class Exercise #1 <br>\n",
    "<p>Write a function that takes in four arguments (list, index1, index2, index3), and swaps those three positions in the list passed in.</p>"
   ]
  },
  {
   "cell_type": "code",
   "execution_count": 6,
   "metadata": {},
   "outputs": [
    {
     "name": "stdout",
     "output_type": "stream",
     "text": [
      "[10, 3, 8, 4, 4, 2, 6]\n"
     ]
    }
   ],
   "source": [
    "l_1 = [10, 4, 3, 8, 4, 2, 6]\n",
    "\n",
    "def swap(alist, x,y,z):\n",
    "    alist[x], alist[y], alist[z] = alist[y], alist[z], alist[x]\n",
    "\n",
    "swap(l_1, 1,2,3)\n",
    "\n",
    "print(l_1)"
   ]
  },
  {
   "cell_type": "markdown",
   "metadata": {},
   "source": [
    "## Two Pointers"
   ]
  },
  {
   "cell_type": "markdown",
   "metadata": {},
   "source": [
    "#### Syntax"
   ]
  },
  {
   "cell_type": "code",
   "execution_count": 7,
   "metadata": {},
   "outputs": [
    {
     "name": "stdout",
     "output_type": "stream",
     "text": [
      "[6, 5, 4, 3, 2, 1]\n"
     ]
    }
   ],
   "source": [
    "#An algo that keeps track of two indicese (two pointers)\n",
    "#\n",
    "\n",
    "this_list = [1,2,3,4,5,6]\n",
    "\n",
    "def two_p_swap(alist):\n",
    "    left = 0\n",
    "    right = len(alist) - 1\n",
    "    while left <= right:\n",
    "        alist[left], alist[right] = alist[right], alist[left]\n",
    "        left += 1\n",
    "        right -= 1\n",
    "\n",
    "    \n",
    "two_p_swap(this_list)\n",
    "print(this_list)"
   ]
  },
  {
   "cell_type": "markdown",
   "metadata": {},
   "source": [
    "#### Video of Algorithms <br>\n",
    "<p>Watch the video about algorithms.</p>\n",
    "\n",
    "https://www.youtube.com/watch?v=Q9HjeFD62Uk\n",
    "\n",
    "https://www.youtube.com/watch?v=kPRA0W1kECg\n",
    "\n",
    "https://www.youtube.com/watch?v=ZZuD6iUe3Pc"
   ]
  },
  {
   "cell_type": "markdown",
   "metadata": {},
   "source": [
    "# Sorting Algorithms"
   ]
  },
  {
   "cell_type": "markdown",
   "metadata": {},
   "source": [
    "#### Bubble Sort\n",
    "\n",
    "Worst Case: O(n^2) Time - O(1) Space"
   ]
  },
  {
   "cell_type": "code",
   "execution_count": 13,
   "metadata": {},
   "outputs": [
    {
     "name": "stdout",
     "output_type": "stream",
     "text": [
      "pass 1\n",
      "[8, 3, 5, 2, 9, 10, 1, 4]\n",
      "[3, 8, 5, 2, 9, 10, 1, 4]\n",
      "[3, 5, 8, 2, 9, 10, 1, 4]\n",
      "[3, 5, 2, 8, 9, 10, 1, 4]\n",
      "[3, 5, 2, 8, 9, 10, 1, 4]\n",
      "[3, 5, 2, 8, 9, 10, 1, 4]\n",
      "[3, 5, 2, 8, 9, 1, 10, 4]\n",
      "[3, 5, 2, 8, 9, 1, 4, 10]\n",
      "pass 2\n",
      "[3, 5, 2, 8, 9, 1, 4, 10]\n",
      "[3, 5, 2, 8, 9, 1, 4, 10]\n",
      "[3, 2, 5, 8, 9, 1, 4, 10]\n",
      "[3, 2, 5, 8, 9, 1, 4, 10]\n",
      "[3, 2, 5, 8, 9, 1, 4, 10]\n",
      "[3, 2, 5, 8, 1, 9, 4, 10]\n",
      "[3, 2, 5, 8, 1, 4, 9, 10]\n",
      "[3, 2, 5, 8, 1, 4, 9, 10]\n",
      "pass 3\n",
      "[3, 2, 5, 8, 1, 4, 9, 10]\n",
      "[2, 3, 5, 8, 1, 4, 9, 10]\n",
      "[2, 3, 5, 8, 1, 4, 9, 10]\n",
      "[2, 3, 5, 8, 1, 4, 9, 10]\n",
      "[2, 3, 5, 1, 8, 4, 9, 10]\n",
      "[2, 3, 5, 1, 4, 8, 9, 10]\n",
      "[2, 3, 5, 1, 4, 8, 9, 10]\n",
      "[2, 3, 5, 1, 4, 8, 9, 10]\n",
      "pass 4\n",
      "[2, 3, 5, 1, 4, 8, 9, 10]\n",
      "[2, 3, 5, 1, 4, 8, 9, 10]\n",
      "[2, 3, 5, 1, 4, 8, 9, 10]\n",
      "[2, 3, 1, 5, 4, 8, 9, 10]\n",
      "[2, 3, 1, 4, 5, 8, 9, 10]\n",
      "[2, 3, 1, 4, 5, 8, 9, 10]\n",
      "[2, 3, 1, 4, 5, 8, 9, 10]\n",
      "[2, 3, 1, 4, 5, 8, 9, 10]\n",
      "pass 5\n",
      "[2, 3, 1, 4, 5, 8, 9, 10]\n",
      "[2, 3, 1, 4, 5, 8, 9, 10]\n",
      "[2, 1, 3, 4, 5, 8, 9, 10]\n",
      "[2, 1, 3, 4, 5, 8, 9, 10]\n",
      "[2, 1, 3, 4, 5, 8, 9, 10]\n",
      "[2, 1, 3, 4, 5, 8, 9, 10]\n",
      "[2, 1, 3, 4, 5, 8, 9, 10]\n",
      "[2, 1, 3, 4, 5, 8, 9, 10]\n",
      "pass 6\n",
      "[2, 1, 3, 4, 5, 8, 9, 10]\n",
      "[1, 2, 3, 4, 5, 8, 9, 10]\n",
      "[1, 2, 3, 4, 5, 8, 9, 10]\n",
      "[1, 2, 3, 4, 5, 8, 9, 10]\n",
      "[1, 2, 3, 4, 5, 8, 9, 10]\n",
      "[1, 2, 3, 4, 5, 8, 9, 10]\n",
      "[1, 2, 3, 4, 5, 8, 9, 10]\n",
      "[1, 2, 3, 4, 5, 8, 9, 10]\n",
      "pass 7\n",
      "[1, 2, 3, 4, 5, 8, 9, 10]\n",
      "[1, 2, 3, 4, 5, 8, 9, 10]\n",
      "[1, 2, 3, 4, 5, 8, 9, 10]\n",
      "[1, 2, 3, 4, 5, 8, 9, 10]\n",
      "[1, 2, 3, 4, 5, 8, 9, 10]\n",
      "[1, 2, 3, 4, 5, 8, 9, 10]\n",
      "[1, 2, 3, 4, 5, 8, 9, 10]\n",
      "[1, 2, 3, 4, 5, 8, 9, 10]\n",
      "[1, 2, 3, 4, 5, 8, 9, 10]\n"
     ]
    }
   ],
   "source": [
    "#places the next largest ele in position with every single pass\n",
    "\n",
    "alist = [8,3,5,2,9,10,1,4]\n",
    "\n",
    "def swap(alist, x, y):\n",
    "    alist[x], alist[y] = alist[y], alist[x]\n",
    "\n",
    "def bubble(alist):\n",
    "    isSorted = False\n",
    "\n",
    "    p = 0\n",
    "    while not isSorted:\n",
    "        p+=1\n",
    "        print(f'pass {p}')\n",
    "        isSorted = True\n",
    "\n",
    "        for index in range(len(alist)-1):\n",
    "            print(alist)\n",
    "            if alist[index] > alist[index + 1]:\n",
    "                swap(alist, index, index + 1)\n",
    "                isSorted = False\n",
    "        print(alist)\n",
    "    \n",
    "bubble(alist)\n",
    "print(alist)"
   ]
  },
  {
   "cell_type": "markdown",
   "metadata": {},
   "source": [
    "##### Insertion Sort\n",
    "\n",
    "Worst Case: O(n^2) time - O(1)space"
   ]
  },
  {
   "cell_type": "code",
   "execution_count": 16,
   "metadata": {},
   "outputs": [
    {
     "name": "stdout",
     "output_type": "stream",
     "text": [
      "[8]\n",
      "3\n",
      "[8, 3]\n",
      "[3, 8]\n",
      "5\n",
      "[3, 8, 5]\n",
      "[3, 5, 8]\n",
      "2\n",
      "[3, 5, 8, 2]\n",
      "[3, 5, 2]\n",
      "[3, 2]\n",
      "[2, 3, 5, 8]\n",
      "9\n",
      "[2, 3, 5, 8, 9]\n",
      "10\n",
      "[2, 3, 5, 8, 9, 10]\n",
      "1\n",
      "[2, 3, 5, 8, 9, 10, 1]\n",
      "[2, 3, 5, 8, 9, 1]\n",
      "[2, 3, 5, 8, 1]\n",
      "[2, 3, 5, 1]\n",
      "[2, 3, 1]\n",
      "[2, 1]\n",
      "[1, 2, 3, 5, 8, 9, 10]\n",
      "4\n",
      "[1, 2, 3, 5, 8, 9, 10, 4]\n",
      "[1, 2, 3, 5, 8, 9, 4]\n",
      "[1, 2, 3, 5, 8, 4]\n",
      "[1, 2, 3, 5, 4]\n",
      "[1, 2, 3, 4, 5, 8, 9, 10]\n"
     ]
    }
   ],
   "source": [
    "#starting from the beginning inserting the next value into the \"sorted\" values\n",
    "\n",
    "alist = [8,3,5,2,9,10,1,4]\n",
    "\n",
    "def swap(alist, x, y):\n",
    "    alist[x], alist[y] = alist[y], alist[x]\n",
    "\n",
    "def insertion(alist):\n",
    "    for i in range(1, len(alist)):\n",
    "        print(alist[:i])\n",
    "        print(alist[i])\n",
    "        while i > 0 and alist[i] < alist[i-1]:\n",
    "            print(alist[:i+1])\n",
    "            swap(alist, i, i-1)\n",
    "            i -= 1\n",
    "\n",
    "insertion(alist)\n",
    "print(alist)\n"
   ]
  },
  {
   "cell_type": "markdown",
   "metadata": {},
   "source": [
    "## Merge Sort"
   ]
  },
  {
   "cell_type": "markdown",
   "metadata": {},
   "source": [
    "#### How it Works"
   ]
  },
  {
   "cell_type": "code",
   "execution_count": 23,
   "metadata": {},
   "outputs": [
    {
     "name": "stdout",
     "output_type": "stream",
     "text": [
      "SPLITTING: [8, 3, 5, 2, 9, 10, 1, 4]\n",
      "Left Half: [8, 3, 5, 2] --- Right Half: [9, 10, 1, 4]\n",
      "SPLITTING: [8, 3, 5, 2]\n",
      "Left Half: [8, 3] --- Right Half: [5, 2]\n",
      "SPLITTING: [8, 3]\n",
      "Left Half: [8] --- Right Half: [3]\n",
      "MERGING: Left [8] --- Right [3]\n",
      "One side empty\n",
      "FILLING from other side\n",
      "MERGE COMPLETE [3, 8]\n",
      "SPLITTING: [5, 2]\n",
      "Left Half: [5] --- Right Half: [2]\n",
      "MERGING: Left [5] --- Right [2]\n",
      "One side empty\n",
      "FILLING from other side\n",
      "MERGE COMPLETE [2, 5]\n",
      "MERGING: Left [3, 8] --- Right [2, 5]\n",
      "One side empty\n",
      "FILLING from other side\n",
      "MERGE COMPLETE [2, 3, 5, 8]\n",
      "SPLITTING: [9, 10, 1, 4]\n",
      "Left Half: [9, 10] --- Right Half: [1, 4]\n",
      "SPLITTING: [9, 10]\n",
      "Left Half: [9] --- Right Half: [10]\n",
      "MERGING: Left [9] --- Right [10]\n",
      "One side empty\n",
      "FILLING from other side\n",
      "MERGE COMPLETE [9, 10]\n",
      "SPLITTING: [1, 4]\n",
      "Left Half: [1] --- Right Half: [4]\n",
      "MERGING: Left [1] --- Right [4]\n",
      "One side empty\n",
      "FILLING from other side\n",
      "MERGE COMPLETE [1, 4]\n",
      "MERGING: Left [9, 10] --- Right [1, 4]\n",
      "One side empty\n",
      "FILLING from other side\n",
      "MERGE COMPLETE [1, 4, 9, 10]\n",
      "MERGING: Left [2, 3, 5, 8] --- Right [1, 4, 9, 10]\n",
      "One side empty\n",
      "FILLING from other side\n",
      "MERGE COMPLETE [1, 2, 3, 4, 5, 8, 9, 10]\n",
      "[1, 2, 3, 4, 5, 8, 9, 10]\n"
     ]
    }
   ],
   "source": [
    "\n",
    "\n",
    "alist = [8,3,5,2,9,10,1,4]\n",
    "\n",
    "def mergeSort(alist):\n",
    "\n",
    "    if len(alist) > 1:\n",
    "        #first step split all the way down the left side (followed by the right)\n",
    "\n",
    "        middle = len(alist) // 2\n",
    "        left_half = alist[:middle]\n",
    "        right_half = alist[middle:]\n",
    "        print(f'SPLITTING: {alist}')\n",
    "        print(f'Left Half: {left_half} --- Right Half: {right_half}')\n",
    "\n",
    "        mergeSort(left_half)\n",
    "        mergeSort(right_half)\n",
    "\n",
    "\n",
    "        i = 0 #tracking left pointer\n",
    "        j = 0 #tracking right pointer\n",
    "        k = 0 #tracking main list pointer\n",
    "\n",
    "        print(f'MERGING: Left {left_half} --- Right {right_half}')\n",
    "        #comparing and sorting the elements from left and right until one list is empty\n",
    "\n",
    "        while i < len(left_half) and j < len(right_half):\n",
    "            if left_half[i] < right_half[j]:\n",
    "                alist[k] = left_half[i]\n",
    "                i += 1\n",
    "            else:\n",
    "                alist[k] = right_half[j]\n",
    "                j += 1\n",
    "            k += 1\n",
    "        print('One side empty')\n",
    "        #once a list is empty\n",
    "        #fill in from the other list\n",
    "\n",
    "        print('FILLING from other side')\n",
    "        while i < len(left_half):\n",
    "            alist[k] = left_half[i]\n",
    "            i+= 1\n",
    "            k+= 1\n",
    "\n",
    "        while j < len(right_half):\n",
    "            alist[k] = right_half[j]\n",
    "            j+=1\n",
    "            k+=1\n",
    "        print(f'MERGE COMPLETE {alist}')\n",
    "        \n",
    "    #return alist -- inplace don't need to return\n",
    "\n",
    "mergeSort(alist)\n",
    "print(alist)"
   ]
  },
  {
   "cell_type": "markdown",
   "metadata": {},
   "source": [
    "# Binary Search\n",
    "\n",
    "The Binary Search algorithm works by finding the number in the middle of a given array and comparing it to the target. Given that the array is sorted\n",
    "\n",
    "* The worst case run time for this algorithm is `O(log(n))`"
   ]
  },
  {
   "cell_type": "code",
   "execution_count": 26,
   "metadata": {},
   "outputs": [
    {
     "data": {
      "text/plain": [
       "'WINNER WINNER CHICKEN DINNER found 8 at index 7'"
      ]
     },
     "execution_count": 26,
     "metadata": {},
     "output_type": "execute_result"
    }
   ],
   "source": [
    "def binarSearch(alist, target):\n",
    "    left = 0\n",
    "    right = len(alist) - 1\n",
    "    while left <= right:\n",
    "        middle = (left + right) // 2\n",
    "        potential = alist[middle]\n",
    "        if target == potential:\n",
    "            return f'WINNER WINNER CHICKEN DINNER found {target} at index {middle}'\n",
    "        if target > potential:\n",
    "            left = middle + 1\n",
    "        elif target < potential:\n",
    "            right = middle -1\n",
    "    return 'Target not found'\n",
    "\n",
    "binarSearch([1,2,3,4,5,6,7,8,22,45,64,78,90,1000], 8)"
   ]
  },
  {
   "cell_type": "markdown",
   "metadata": {},
   "source": [
    "# Exercises"
   ]
  },
  {
   "cell_type": "markdown",
   "metadata": {},
   "source": [
    "### Exercise #1 <br>\n",
    "<p>Reverse the list below in-place using an in-place algorithm.<br>For extra credit: Reverse the strings at the same time.</p>"
   ]
  },
  {
   "cell_type": "code",
   "execution_count": 1,
   "metadata": {},
   "outputs": [
    {
     "name": "stdout",
     "output_type": "stream",
     "text": [
      "['.', 'ecnetnes', 'a', 'si', 'siht']\n"
     ]
    }
   ],
   "source": [
    "# NO HARD CODING\n",
    "# Make it flexible\n",
    "\n",
    "words = [\"this\", \"is\", \"a\", \"sentence\", \".\"]\n",
    "for i in range(len(words)):\n",
    "    words[i] = words[i][::-1]\n",
    "\n",
    "start = 0\n",
    "end = len(words) - 1\n",
    "\n",
    "while start < end:\n",
    "    words[start], words[end] = words[end], words[start]\n",
    "    start += 1\n",
    "    end -= 1\n",
    "\n",
    "print (words)"
   ]
  },
  {
   "cell_type": "markdown",
   "metadata": {},
   "source": [
    "### Exercise #2 <br>\n",
    "<p>Create a function that counts how many distinct words are in the string below, then outputs a dictionary with the words as the key and the value as the amount of times that word appears in the string.<br>Should output:<br>{'a': 5,<br>\n",
    " 'abstract': 1,<br>\n",
    " 'an': 3,<br>\n",
    " 'array': 2, ... etc...</p>"
   ]
  },
  {
   "cell_type": "code",
   "execution_count": 2,
   "metadata": {},
   "outputs": [
    {
     "name": "stdout",
     "output_type": "stream",
     "text": [
      "{'in': 1, 'computing': 1, 'a': 5, 'hash': 4, 'table': 2, 'map': 2, 'is': 1, 'data': 2, 'structure': 2, 'which': 2, 'implements': 1, 'an': 3, 'associative': 1, 'array': 2, 'abstract': 1, 'type': 1, 'that': 1, 'can': 2, 'keys': 1, 'to': 2, 'values': 1, 'uses': 1, 'function': 1, 'compute': 1, 'index': 1, 'into': 1, 'of': 1, 'buckets': 1, 'or': 1, 'slots': 1, 'from': 1, 'the': 1, 'desired': 1, 'value': 1, 'be': 1, 'found': 1}\n"
     ]
    }
   ],
   "source": [
    "a_text = 'In computing, a hash table hash map is a data structure which implements an associative array abstract data type, a structure that can map keys to values. A hash table uses a hash function to compute an index into an array of buckets or slots from which the desired value can be found'\n",
    "\n",
    "#casing matters In and in are the smae .split()\n",
    "\n",
    "#extra credit should be able ignore punctation HINT: .strip()\n",
    "def word_frequency(text):\n",
    "    # Split the text into words\n",
    "    words = text.split()\n",
    "\n",
    "    # Initialize an empty dictionary to store word frequencies\n",
    "    word_count = {}\n",
    "\n",
    "    for word in words:\n",
    "        # Remove punctuation and convert to lowercase for case-insensitive counting\n",
    "        word = word.strip('.,')\n",
    "        word = word.lower()\n",
    "\n",
    "        # Check if the word is already in the dictionary, and if not, add it with a count of 1.\n",
    "        if word in word_count:\n",
    "            word_count[word] += 1\n",
    "        else:\n",
    "            word_count[word] = 1\n",
    "\n",
    "    return word_count\n",
    "\n",
    "a_text = 'In computing, a hash table hash map is a data structure which implements an associative array abstract data type, a structure that can map keys to values. A hash table uses a hash function to compute an index into an array of buckets or slots from which the desired value can be found'\n",
    "\n",
    "word_count_dict = word_frequency(a_text)\n",
    "print(word_count_dict)\n",
    "\n",
    "\n",
    "\n",
    "\n"
   ]
  },
  {
   "cell_type": "markdown",
   "metadata": {},
   "source": [
    "## Exercise #3\n",
    "\n",
    "Write a program to implement a Linear Search Algorithm. Also in a comment, write the Time Complexity of the following algorithm.\n",
    "\n",
    "#### Hint: Linear Searching will require searching a list for a given number. "
   ]
  },
  {
   "cell_type": "code",
   "execution_count": 5,
   "metadata": {},
   "outputs": [
    {
     "name": "stdout",
     "output_type": "stream",
     "text": [
      "Target 20 found at index 4.\n"
     ]
    }
   ],
   "source": [
    "# is it the First ele, the Second ele, the Third ele...\n",
    "def linear_search(arr, target):\n",
    "    for i in range(len(arr)):\n",
    "        if arr[i] == target:\n",
    "            return i  # Return the index where the target is found\n",
    "    return -1\n",
    "\n",
    "\n",
    "my_list = [5, 12, 34, 8, 20, 17, 11]\n",
    "target_number = 20\n",
    "result = linear_search(my_list, target_number)\n",
    "\n",
    "if result != -1:\n",
    "    print(f\"Target {target_number} found at index {result}.\")\n",
    "else:\n",
    "    print(f\"Target {target_number} not found in the list.\")\n",
    "\n",
    "# Time complexity of the alogorithm isO(n)\n"
   ]
  }
 ],
 "metadata": {
  "kernelspec": {
   "display_name": "Python 3",
   "language": "python",
   "name": "python3"
  },
  "language_info": {
   "codemirror_mode": {
    "name": "ipython",
    "version": 3
   },
   "file_extension": ".py",
   "mimetype": "text/x-python",
   "name": "python",
   "nbconvert_exporter": "python",
   "pygments_lexer": "ipython3",
   "version": "3.11.4"
  }
 },
 "nbformat": 4,
 "nbformat_minor": 2
}
